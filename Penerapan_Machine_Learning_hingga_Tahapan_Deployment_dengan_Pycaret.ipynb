{
  "nbformat": 4,
  "nbformat_minor": 0,
  "metadata": {
    "colab": {
      "private_outputs": true,
      "provenance": [],
      "toc_visible": true,
      "collapsed_sections": [
        "H1Zg4npI2ei6",
        "g9KoFi7zhYsN",
        "-qbuA60M2vtt",
        "4KhcnrCcnqmD",
        "GcFydNS3nqmE",
        "CmmbkRR8Ofkc",
        "ILzykZ274HNi"
      ],
      "gpuType": "T4",
      "authorship_tag": "ABX9TyPYUOkNNXZJsbO2DlLYO/9s",
      "include_colab_link": true
    },
    "kernelspec": {
      "name": "python3",
      "display_name": "Python 3"
    },
    "language_info": {
      "name": "python"
    },
    "accelerator": "GPU"
  },
  "cells": [
    {
      "cell_type": "markdown",
      "metadata": {
        "id": "view-in-github",
        "colab_type": "text"
      },
      "source": [
        "<a href=\"https://colab.research.google.com/github/bayhaqy/Low-Code-MachineLearning/blob/main/Penerapan_Machine_Learning_hingga_Tahapan_Deployment_dengan_Pycaret.ipynb\" target=\"_parent\"><img src=\"https://colab.research.google.com/assets/colab-badge.svg\" alt=\"Open In Colab\"/></a>"
      ]
    },
    {
      "cell_type": "markdown",
      "source": [
        "# Penerapan Machine Learning hingga Tahapan Deployment dengan Pycaret.ipynb"
      ],
      "metadata": {
        "id": "pTgbJqcQbHxw"
      }
    },
    {
      "cell_type": "markdown",
      "source": [
        "## Setup Requirement"
      ],
      "metadata": {
        "id": "BSXEmvt1hUX5"
      }
    },
    {
      "cell_type": "markdown",
      "source": [
        "### Set Log level"
      ],
      "metadata": {
        "id": "H1Zg4npI2ei6"
      }
    },
    {
      "cell_type": "code",
      "source": [
        "# Only enable critical logging (Optional)\n",
        "import os\n",
        "os.environ[\"PYCARET_CUSTOM_LOGGING_LEVEL\"] = \"CRITICAL\""
      ],
      "metadata": {
        "id": "QUOid_M92cqu"
      },
      "execution_count": null,
      "outputs": []
    },
    {
      "cell_type": "markdown",
      "source": [
        "### Install Library"
      ],
      "metadata": {
        "id": "g9KoFi7zhYsN"
      }
    },
    {
      "cell_type": "code",
      "source": [
        "!pip install pycaret[full] -q\n",
        "#!pip install mlflow -q\n",
        "#!pip install pycaret-ts-alpha\n",
        "!pip install deep_translator -q\n",
        "!pip install langdetect -q\n",
        "!pip install vaderSentiment -q"
      ],
      "metadata": {
        "id": "qyEEoinNbHPH"
      },
      "execution_count": null,
      "outputs": []
    },
    {
      "cell_type": "markdown",
      "source": [
        "### Check Installed Library"
      ],
      "metadata": {
        "id": "-qbuA60M2vtt"
      }
    },
    {
      "cell_type": "code",
      "source": [
        "def what_is_installed():\n",
        "    from pycaret import show_versions\n",
        "    show_versions()\n",
        "\n",
        "try:\n",
        "    what_is_installed()\n",
        "except ModuleNotFoundError:\n",
        "    !pip install pycaret\n",
        "    what_is_installed()"
      ],
      "metadata": {
        "id": "LsPPfSMv2wE_"
      },
      "execution_count": null,
      "outputs": []
    },
    {
      "cell_type": "markdown",
      "source": [
        "### Import Library"
      ],
      "metadata": {
        "id": "0qPT2dz23LAR"
      }
    },
    {
      "cell_type": "code",
      "source": [
        "import time\n",
        "import numpy as np\n",
        "import pandas as pd\n",
        "import duckdb"
      ],
      "metadata": {
        "id": "tvpFRQV03NPZ"
      },
      "execution_count": null,
      "outputs": []
    },
    {
      "cell_type": "code",
      "source": [
        "# check docstring to see available plots\n",
        "help(pd)"
      ],
      "metadata": {
        "id": "2SDXlTlgDiNb"
      },
      "execution_count": null,
      "outputs": []
    },
    {
      "cell_type": "markdown",
      "source": [
        "# Sales Prediction"
      ],
      "metadata": {
        "id": "B2vr27eVnql8"
      }
    },
    {
      "cell_type": "markdown",
      "source": [
        "## Import dataset dari Pycaret Repository"
      ],
      "metadata": {
        "id": "Gj288Nu2nqmD"
      }
    },
    {
      "cell_type": "code",
      "source": [
        "import pandas as pd\n",
        "\n",
        "# Load data with specified encoding\n",
        "sales_data = pd.read_csv('https://github.com/bayhaqy/Datasets/raw/main/Sales/Superstore.csv', encoding='latin1')"
      ],
      "metadata": {
        "id": "glTElRbtnqmD"
      },
      "execution_count": null,
      "outputs": []
    },
    {
      "cell_type": "code",
      "source": [
        "pd.set_option('display.max_columns', None)"
      ],
      "metadata": {
        "id": "YmWf0h34nqmD"
      },
      "execution_count": null,
      "outputs": []
    },
    {
      "cell_type": "markdown",
      "source": [
        "## Exploratory Data Analysis (EDA)"
      ],
      "metadata": {
        "id": "4KhcnrCcnqmD"
      }
    },
    {
      "cell_type": "markdown",
      "source": [
        "### Mencari informasi tentang data tersebut"
      ],
      "metadata": {
        "id": "-KDyuep8nqmD"
      }
    },
    {
      "cell_type": "code",
      "source": [
        "# Melihat 5 data teratas\n",
        "sales_data.head(5)"
      ],
      "metadata": {
        "id": "F8a4MBxjoee-"
      },
      "execution_count": null,
      "outputs": []
    },
    {
      "cell_type": "code",
      "source": [
        "sales_data.columns"
      ],
      "metadata": {
        "id": "oADhuX1Wt4n_"
      },
      "execution_count": null,
      "outputs": []
    },
    {
      "cell_type": "code",
      "source": [
        "sales_data['Order Date'] = pd.to_datetime(sales_data['Order Date'], dayfirst=True, errors='coerce').dt.date\n",
        "sales_data['Ship Date'] = pd.to_datetime(sales_data['Ship Date'], dayfirst=True, errors='coerce').dt.date"
      ],
      "metadata": {
        "id": "reCC-VRDThRw"
      },
      "execution_count": null,
      "outputs": []
    },
    {
      "cell_type": "code",
      "source": [
        "# Melihat informasi data\n",
        "sales_data.info()"
      ],
      "metadata": {
        "id": "xS9flZNcnqmE"
      },
      "execution_count": null,
      "outputs": []
    },
    {
      "cell_type": "code",
      "source": [
        "# Melihat statistik deskriptif\n",
        "sales_data.describe()"
      ],
      "metadata": {
        "id": "jvPElld1nqmE"
      },
      "execution_count": null,
      "outputs": []
    },
    {
      "cell_type": "code",
      "source": [
        "# Melihat missing value\n",
        "sales_data.isnull().sum().sort_values(ascending = False)"
      ],
      "metadata": {
        "id": "eGwFjb5-nqmE"
      },
      "execution_count": null,
      "outputs": []
    },
    {
      "cell_type": "code",
      "source": [
        "# Find Duplicate\n",
        "sales_data.duplicated().any()"
      ],
      "metadata": {
        "id": "Ee3JgxSaolvo"
      },
      "execution_count": null,
      "outputs": []
    },
    {
      "cell_type": "code",
      "source": [
        "duckdb.query(\"SELECT Country, City, COUNT(*) as Total FROM sales_data group by Country, City order by Total Desc LIMIT 5\").df()"
      ],
      "metadata": {
        "id": "FNJjXRS98Iyh"
      },
      "execution_count": null,
      "outputs": []
    },
    {
      "cell_type": "code",
      "source": [
        "duckdb.query(\"SELECT Category, COUNT(*) as Total FROM sales_data group by Category order by Total Desc LIMIT 5\").df() # returns a result dataframe"
      ],
      "metadata": {
        "id": "M-Jg5ROc9CUR"
      },
      "execution_count": null,
      "outputs": []
    },
    {
      "cell_type": "code",
      "source": [
        "print('Dataset diambil dari',sales_data['Order Date'].min(),'Sampai',sales_data['Order Date'].max())"
      ],
      "metadata": {
        "id": "ZPxyfdiET3Nu"
      },
      "execution_count": null,
      "outputs": []
    },
    {
      "cell_type": "code",
      "source": [
        "# Distribusi nilai dalam kolom kategorikal\n",
        "print(sales_data['Segment'].value_counts())\n",
        "print('')\n",
        "print(sales_data['Sub-Category'].value_counts())\n",
        "print('')\n",
        "print(sales_data['Category'].value_counts())\n",
        "print('')\n",
        "print(sales_data['Region'].value_counts())\n",
        "print('')\n",
        "print(sales_data['Ship Mode'].value_counts())"
      ],
      "metadata": {
        "id": "lHZCmPyGSrQZ"
      },
      "execution_count": null,
      "outputs": []
    },
    {
      "cell_type": "markdown",
      "source": [
        "### Memvisualisasi Data yang ada"
      ],
      "metadata": {
        "id": "GcFydNS3nqmE"
      }
    },
    {
      "cell_type": "code",
      "source": [
        "from scipy.stats import probplot\n",
        "import matplotlib.pyplot as plt\n",
        "import seaborn as sns\n",
        "import numpy as np\n",
        "%matplotlib inline\n",
        "\n",
        "import warnings\n",
        "warnings.filterwarnings('ignore')\n",
        "\n",
        "skewed_cols = ['Quantity','Discount','Profit']\n",
        "\n",
        "for col in sales_data.select_dtypes(np.number).columns:\n",
        "    print(f\"Skewness of {col}:\",sales_data[col].skew())\n",
        "    print(f\"Kurtosis of {col}:\",sales_data[col].kurt())\n",
        "    plt.subplots(nrows=1,ncols=2,figsize=(14,4))\n",
        "    plt.subplot(1,3,1)\n",
        "    sns.distplot(sales_data[col])\n",
        "    plt.subplot(1,3,2)\n",
        "    sns.boxplot(sales_data[col])\n",
        "    plt.subplot(1,3,3)\n",
        "    probplot(sales_data[col],plot=plt,dist='norm',rvalue=True)\n",
        "    plt.show()"
      ],
      "metadata": {
        "id": "Vq1CXdaxxIw9"
      },
      "execution_count": null,
      "outputs": []
    },
    {
      "cell_type": "code",
      "source": [
        "plt.figure(figsize=(10,5))\n",
        "labels = sales_data['Category'].value_counts().keys()\n",
        "values = sales_data['Category'].value_counts().values\n",
        "\n",
        "plt.pie(values,labels=labels,autopct='%1.2f%%',shadow=True)\n",
        "plt.show()\n"
      ],
      "metadata": {
        "id": "aKn8JFEpwnDk"
      },
      "execution_count": null,
      "outputs": []
    },
    {
      "cell_type": "code",
      "source": [
        "plt.figure(figsize=(10,5))\n",
        "sns.countplot(x='Region',data=sales_data)\n",
        "plt.show()"
      ],
      "metadata": {
        "id": "5QUwEoyDnqmE"
      },
      "execution_count": null,
      "outputs": []
    },
    {
      "cell_type": "code",
      "source": [
        "plt.figure(figsize=(10,5))\n",
        "labels = sales_data['Segment'].value_counts().keys()\n",
        "values = sales_data['Segment'].value_counts().values\n",
        "\n",
        "plt.pie(values,labels=labels,autopct='%1.2f%%',shadow=True,explode=[0.1,0,0],startangle=90,textprops={'fontsize': 14},colors=['crimson','lawngreen','sienna'])\n",
        "plt.show()"
      ],
      "metadata": {
        "id": "0UO3bQTvxsa7"
      },
      "execution_count": null,
      "outputs": []
    },
    {
      "cell_type": "code",
      "source": [
        "sales_data.query()"
      ],
      "metadata": {
        "id": "-KwaHepR7ehb"
      },
      "execution_count": null,
      "outputs": []
    },
    {
      "cell_type": "code",
      "source": [
        "sales_data['Ship Mode'].value_counts()\n",
        "\n",
        "plt.figure(figsize=(10,5))\n",
        "labels = sales_data['Ship Mode'].value_counts().keys()\n",
        "values = sales_data['Ship Mode'].value_counts().values\n",
        "\n",
        "plt.pie(values,labels=labels,autopct='%1.2f%%',shadow=True,explode=[0.1,0.1,0.1,0],startangle=90,textprops={'fontsize': 14},colors=['crimson','lawngreen','sienna','cyan'])\n",
        "plt.show()"
      ],
      "metadata": {
        "id": "2OH1tRyyxzk5"
      },
      "execution_count": null,
      "outputs": []
    },
    {
      "cell_type": "markdown",
      "source": [
        "## Data Preprocessing"
      ],
      "metadata": {
        "id": "6UG1R5gDnqmE"
      }
    },
    {
      "cell_type": "code",
      "source": [
        "sales_data['Profit Margin'] = sales_data['Profit']/sales_data['Sales']\n",
        "sales_data['Discounted Profit'] = sales_data['Profit']-sales_data['Profit']*sales_data['Discount']\n",
        "sales_data['Discount Percentage'] = sales_data['Discount']/sales_data['Sales']*100\n",
        "sales_data['Operating Expenses'] = sales_data['Sales'] - sales_data['Profit']\n",
        "sales_data['Net Profit'] = sales_data['Profit'] - sales_data['Discount']"
      ],
      "metadata": {
        "id": "WGiO99WQyXb3"
      },
      "execution_count": null,
      "outputs": []
    },
    {
      "cell_type": "code",
      "source": [
        "sales_data['Order Date'] = pd.to_datetime(sales_data['Order Date'],errors='coerce')\n",
        "sales_data['Ship Date'] = pd.to_datetime(sales_data['Ship Date'],errors='coerce')\n",
        "\n",
        "sales_data['Order Year'] = sales_data['Order Date'].dt.year\n",
        "sales_data['Order Month'] = sales_data['Order Date'].dt.month\n",
        "sales_data['Order Day'] = sales_data['Order Date'].dt.day\n",
        "sales_data['Order Weekday'] = sales_data['Order Date'].dt.dayofweek\n",
        "sales_data['Ship Year'] = sales_data['Ship Date'].dt.year\n",
        "sales_data['Ship Month'] = sales_data['Ship Date'].dt.month\n",
        "sales_data['Ship Day'] = sales_data['Ship Date'].dt.day\n",
        "sales_data['Ship Weekday'] = sales_data['Ship Date'].dt.dayofweek\n",
        "sales_data.drop(['Order Date','Ship Date'],axis=1,inplace=True)"
      ],
      "metadata": {
        "id": "NUarNWv1yhYk"
      },
      "execution_count": null,
      "outputs": []
    },
    {
      "cell_type": "code",
      "source": [
        "# sales_data = sales_data.drop_duplicates()\n",
        "\n",
        "# sales_data.drop('Country', axis=1, inplace=True)\n",
        "\n",
        "# sales_data.drop(['Order ID','Customer ID','Customer Name','Product ID'],axis=1,inplace=True)\n",
        "\n",
        "# # Menangani missing values\n",
        "# sales_data.dropna(inplace=True)\n",
        "\n",
        "# final_selected_features = ['Profit',\n",
        "#                            'Discount Percentage',\n",
        "#                            'Postal Code',\n",
        "#                            'Discount',\n",
        "#                            'Order Day',\n",
        "#                            'Order Month',\n",
        "#                            'Quantity',\n",
        "#                            'Operating Expenses',\n",
        "#                            'Ship Day',\n",
        "#                            'Order Weekday',\n",
        "#                            'Sales']\n",
        "\n",
        "# sales_data = sales_data[final_selected_features]\n",
        "# sales_data.head(5)"
      ],
      "metadata": {
        "id": "clUGmIlV0zR8"
      },
      "execution_count": null,
      "outputs": []
    },
    {
      "cell_type": "code",
      "source": [
        "# from sklearn.model_selection import train_test_split\n",
        "\n",
        "# X = sales_data.drop('Sales',axis=1)\n",
        "# y = sales_data['Sales']\n",
        "\n",
        "# X_train, X_test, y_train, y_test = train_test_split(X, y, test_size=0.3, random_state=42)"
      ],
      "metadata": {
        "id": "CU9WNtZHzJLd"
      },
      "execution_count": null,
      "outputs": []
    },
    {
      "cell_type": "code",
      "source": [
        "# initialize setup untuk data transformation\n",
        "from pycaret.regression import *\n",
        "\n",
        "sales_set = setup(sales_data, target = 'Sales', transform_target = True, log_experiment='mlflow', experiment_name = 'diamond',use_gpu = False,train_size = 0.8)"
      ],
      "metadata": {
        "id": "EQh7PbJPnqmE"
      },
      "execution_count": null,
      "outputs": []
    },
    {
      "cell_type": "markdown",
      "source": [
        "## Data Modeling"
      ],
      "metadata": {
        "id": "ojJQrL8mnqmF"
      }
    },
    {
      "cell_type": "code",
      "source": [
        "# check models yang tersedia\n",
        "sales_set.models()"
      ],
      "metadata": {
        "collapsed": true,
        "id": "4JFHw3Z7nqmF"
      },
      "execution_count": null,
      "outputs": []
    },
    {
      "cell_type": "code",
      "source": [
        "# compare semua model\n",
        "best_sales_model = sales_set.compare_models(sort = 'MAE')"
      ],
      "metadata": {
        "collapsed": true,
        "id": "luZKpKmHnqmF"
      },
      "execution_count": null,
      "outputs": []
    },
    {
      "cell_type": "code",
      "source": [
        "# Pilih algoritma\n",
        "sales_model = sales_set.create_model('xgboost')"
      ],
      "metadata": {
        "id": "nek4D7O42_Hk"
      },
      "execution_count": null,
      "outputs": []
    },
    {
      "cell_type": "code",
      "source": [
        "# Melakukan tunning hyperparameter pada model secara otomatis\n",
        "best_sales_model = sales_set.tune_model(sales_model)"
      ],
      "metadata": {
        "id": "pAjsYQ-y2xEe"
      },
      "execution_count": null,
      "outputs": []
    },
    {
      "cell_type": "markdown",
      "source": [
        "## Evaluasi Model"
      ],
      "metadata": {
        "id": "7gHEK-w7nqmF"
      }
    },
    {
      "cell_type": "code",
      "source": [
        "best_sales_model"
      ],
      "metadata": {
        "id": "kK3CYGXBnqmF"
      },
      "execution_count": null,
      "outputs": []
    },
    {
      "cell_type": "code",
      "source": [
        "evaluate_model(best_sales_model)"
      ],
      "metadata": {
        "id": "MqixeYqwnqmF"
      },
      "execution_count": null,
      "outputs": []
    },
    {
      "cell_type": "code",
      "source": [
        "# check all available config\n",
        "best_sales_model.get_config()\n"
      ],
      "metadata": {
        "id": "uiFCKo3onqmF"
      },
      "execution_count": null,
      "outputs": []
    },
    {
      "cell_type": "code",
      "source": [
        "# plot error\n",
        "plot_model(best_sales_model, plot = 'error')\n",
        "\n",
        "# check the residuals of trained model\n",
        "plot_model(best_sales_model, plot = 'residuals')\n",
        "\n",
        "# check feature importance\n",
        "plot_model(best_sales_model, plot ='feature')"
      ],
      "metadata": {
        "id": "1_FYdzfsnqmF"
      },
      "execution_count": null,
      "outputs": []
    },
    {
      "cell_type": "code",
      "source": [
        "# interpret summary model\n",
        "interpret_model(best_sales_model, plot = 'summary')"
      ],
      "metadata": {
        "id": "UT8tlh71nqmF"
      },
      "execution_count": null,
      "outputs": []
    },
    {
      "cell_type": "markdown",
      "source": [
        "## Simpan Model dan Experiment"
      ],
      "metadata": {
        "id": "tuOAwnh7nqmF"
      }
    },
    {
      "cell_type": "code",
      "source": [
        "save_model(best_sales_model, 'best_sales_model')"
      ],
      "metadata": {
        "id": "dw8-lkNjnqmF"
      },
      "execution_count": null,
      "outputs": []
    },
    {
      "cell_type": "code",
      "source": [
        "save_experiment('best_sales_experiment')"
      ],
      "metadata": {
        "id": "YbbHUiY0nqmF"
      },
      "execution_count": null,
      "outputs": []
    },
    {
      "cell_type": "markdown",
      "source": [
        "## Load Model dan Experiment"
      ],
      "metadata": {
        "id": "QAtaWgSGnqmF"
      }
    },
    {
      "cell_type": "code",
      "source": [
        "# load experiment dan dataframe yang sebelumnya di simpan\n",
        "exp_from_disk = load_experiment('best_sales_experiment', data=sales_data)\n"
      ],
      "metadata": {
        "id": "qQj3wuc_nqmG"
      },
      "execution_count": null,
      "outputs": []
    },
    {
      "cell_type": "code",
      "source": [
        "# load model\n",
        "from pycaret.regression import load_model\n",
        "\n",
        "pipeline = load_model('best_sales_model')\n",
        "\n",
        "# print pipeline\n",
        "print(pipeline)"
      ],
      "metadata": {
        "id": "PSUKgo-2nqmG"
      },
      "execution_count": null,
      "outputs": []
    },
    {
      "cell_type": "code",
      "source": [
        "# Prediksi dari data yang tidak ada variable target\n",
        "predictions = exp_from_disk.predict_model(pipeline, data = sales_data)\n",
        "predictions.head(5)"
      ],
      "metadata": {
        "id": "zEhEGyx0nqmG"
      },
      "execution_count": null,
      "outputs": []
    },
    {
      "cell_type": "code",
      "source": [
        "# Copy data dan hapus variable target\n",
        "data_unseen = sales_data.copy()\n",
        "data_unseen.drop('Sales', axis = 1, inplace = True)\n",
        "\n",
        "# Prediksi dari data yang tidak ada variable target\n",
        "predictions = predict_model(pipeline, data = data_unseen)\n",
        "predictions.head(5)"
      ],
      "metadata": {
        "id": "ZbwtGB7nnqmG"
      },
      "execution_count": null,
      "outputs": []
    },
    {
      "cell_type": "markdown",
      "source": [
        "## Buat API dan Docker dan Apps"
      ],
      "metadata": {
        "id": "wOd1VB44nqmG"
      }
    },
    {
      "cell_type": "markdown",
      "source": [
        "### Buat Apps"
      ],
      "metadata": {
        "id": "s-SkFsFQnqmG"
      }
    },
    {
      "cell_type": "code",
      "source": [
        "# create app\n",
        "create_app(best_sales_model)"
      ],
      "metadata": {
        "id": "WYLZJolonqmG"
      },
      "execution_count": null,
      "outputs": []
    },
    {
      "cell_type": "markdown",
      "source": [
        "### Buat API"
      ],
      "metadata": {
        "id": "lkujlxK9nqmG"
      }
    },
    {
      "cell_type": "code",
      "source": [
        "exp_from_disk.create_api(best_sales_model, 'best_sales_model')"
      ],
      "metadata": {
        "id": "s5yqPu-inqmG"
      },
      "execution_count": null,
      "outputs": []
    },
    {
      "cell_type": "markdown",
      "source": [
        "### Buat Docker"
      ],
      "metadata": {
        "id": "gA4efjw2nqmG"
      }
    },
    {
      "cell_type": "code",
      "source": [
        "# Buat dockerfile\n",
        "create_docker('best_sales_model')"
      ],
      "metadata": {
        "id": "-wdMVynHnqmG"
      },
      "execution_count": null,
      "outputs": []
    },
    {
      "cell_type": "markdown",
      "source": [
        "### Check Files"
      ],
      "metadata": {
        "id": "iBB792vEnqmG"
      }
    },
    {
      "cell_type": "code",
      "source": [
        "!ls"
      ],
      "metadata": {
        "id": "s62266IInqmH"
      },
      "execution_count": null,
      "outputs": []
    },
    {
      "cell_type": "code",
      "source": [
        "!cat best_sales_model.py"
      ],
      "metadata": {
        "id": "Zoy7fPr0nqmH"
      },
      "execution_count": null,
      "outputs": []
    },
    {
      "cell_type": "code",
      "source": [
        "!cat requirements.txt"
      ],
      "metadata": {
        "id": "CAmpz-w6nqmH"
      },
      "execution_count": null,
      "outputs": []
    },
    {
      "cell_type": "code",
      "source": [
        "!cat Dockerfile"
      ],
      "metadata": {
        "id": "lP5s1FMcnqmH"
      },
      "execution_count": null,
      "outputs": []
    },
    {
      "cell_type": "markdown",
      "source": [
        "# Regresi"
      ],
      "metadata": {
        "id": "rKuWFvbUo4by"
      }
    },
    {
      "cell_type": "markdown",
      "source": [
        "## Import dataset dari Pycaret Repository"
      ],
      "metadata": {
        "id": "iScjKVdShlN7"
      }
    },
    {
      "cell_type": "code",
      "source": [
        "from pycaret.datasets import get_data\n",
        "from pycaret.time_series import TSForecastingExperiment\n",
        "\n",
        "data_reg = get_data('diamond')"
      ],
      "metadata": {
        "id": "XieB5qCvcG1D"
      },
      "execution_count": null,
      "outputs": []
    },
    {
      "cell_type": "code",
      "source": [
        "data_reg.set_option('display.max_columns', None)"
      ],
      "metadata": {
        "id": "ym7cd4x6hBQ-"
      },
      "execution_count": null,
      "outputs": []
    },
    {
      "cell_type": "code",
      "source": [
        "data_reg"
      ],
      "metadata": {
        "id": "HmiDIUcrkXrs"
      },
      "execution_count": null,
      "outputs": []
    },
    {
      "cell_type": "markdown",
      "source": [
        "## Exploratory Data Analysis (EDA)"
      ],
      "metadata": {
        "id": "Zg7AI3bZjHtP"
      }
    },
    {
      "cell_type": "markdown",
      "source": [
        "### Mencari informasi tentang data tersebut"
      ],
      "metadata": {
        "id": "Ljx25bAHjoOH"
      }
    },
    {
      "cell_type": "code",
      "source": [
        "data_reg.describe()"
      ],
      "metadata": {
        "id": "1rbO4AkcjbUs"
      },
      "execution_count": null,
      "outputs": []
    },
    {
      "cell_type": "code",
      "source": [
        "data_reg.info()"
      ],
      "metadata": {
        "id": "yPyBYashjN1w"
      },
      "execution_count": null,
      "outputs": []
    },
    {
      "cell_type": "code",
      "source": [
        "data_reg.isnull().sum()"
      ],
      "metadata": {
        "id": "0y3m2iKyjjre"
      },
      "execution_count": null,
      "outputs": []
    },
    {
      "cell_type": "markdown",
      "source": [
        "### Memvisualisasi Data yang ada"
      ],
      "metadata": {
        "id": "tK-NAOpMjzeV"
      }
    },
    {
      "cell_type": "code",
      "source": [
        "data_reg.plot()"
      ],
      "metadata": {
        "id": "FrTy5km0c-g7"
      },
      "execution_count": null,
      "outputs": []
    },
    {
      "cell_type": "code",
      "source": [
        "# plot scatter carat_weight dan Price\n",
        "import plotly.express as px\n",
        "fig = px.scatter(x=data_reg['Carat Weight'], y=data_reg['Price'], facet_col = data_reg['Cut'],\n",
        "                 template = 'plotly_dark', opacity = 0.25, trendline='ols', trendline_color_override = 'red',\n",
        "                 title = 'DATA DIAMOND - CASE STUDY')\n",
        "fig.show()"
      ],
      "metadata": {
        "id": "W6XWieYidAZp"
      },
      "execution_count": null,
      "outputs": []
    },
    {
      "cell_type": "code",
      "source": [
        "# plot histogram\n",
        "fig = px.histogram(data_reg, x=[\"Price\"], template = 'plotly_dark', title = 'Histogram dari Price')\n",
        "fig.show()"
      ],
      "metadata": {
        "id": "9jsbkkF6xyJC"
      },
      "execution_count": null,
      "outputs": []
    },
    {
      "cell_type": "code",
      "source": [
        "import numpy as np\n",
        "\n",
        "# create a copy of data\n",
        "data_copy = data_reg.copy()\n",
        "\n",
        "# create a new feature Log_Price\n",
        "data_copy['Log_Price'] = np.log(data_reg['Price'])\n",
        "\n",
        "# plot histogram\n",
        "fig = px.histogram(data_copy, x=[\"Log_Price\"], title = 'Histgram dari Log Price', template = 'plotly_dark')\n",
        "fig.show()"
      ],
      "metadata": {
        "id": "KA5IDxS5yKq6"
      },
      "execution_count": null,
      "outputs": []
    },
    {
      "cell_type": "markdown",
      "source": [
        "## Data Preprocessing"
      ],
      "metadata": {
        "id": "TB5VFcFyj7su"
      }
    },
    {
      "cell_type": "code",
      "source": [
        "# initialize setup untuk data transformation\n",
        "from pycaret.regression import *\n",
        "\n",
        "esp_reg = setup(data_reg, target = 'Price', transform_target = True, log_experiment='mlflow', experiment_name = 'diamond',use_gpu = True)"
      ],
      "metadata": {
        "id": "G_bnCMvLdCtE"
      },
      "execution_count": null,
      "outputs": []
    },
    {
      "cell_type": "markdown",
      "source": [
        "## Data Modeling"
      ],
      "metadata": {
        "id": "zi_aYOSokwt-"
      }
    },
    {
      "cell_type": "code",
      "source": [
        "# check models yang tersedia\n",
        "esp_reg.models()"
      ],
      "metadata": {
        "id": "R9Oa72NlEaxV"
      },
      "execution_count": null,
      "outputs": []
    },
    {
      "cell_type": "code",
      "source": [
        "# compare semua model\n",
        "best_reg = esp_reg.compare_models(sort = 'MAE')"
      ],
      "metadata": {
        "id": "PuhpIu97dYVK"
      },
      "execution_count": null,
      "outputs": []
    },
    {
      "cell_type": "markdown",
      "source": [
        "## Evaluasi Model"
      ],
      "metadata": {
        "id": "-H26fOFrn4Pz"
      }
    },
    {
      "cell_type": "code",
      "source": [
        "best_reg"
      ],
      "metadata": {
        "id": "WebMYlHQN-4B"
      },
      "execution_count": null,
      "outputs": []
    },
    {
      "cell_type": "code",
      "source": [
        "evaluate_model(best_reg)"
      ],
      "metadata": {
        "id": "1UhGvJtsh34w"
      },
      "execution_count": null,
      "outputs": []
    },
    {
      "cell_type": "code",
      "source": [
        "# check all available config\n",
        "esp_reg.get_config()\n"
      ],
      "metadata": {
        "id": "t2oVu-DaD6cb"
      },
      "execution_count": null,
      "outputs": []
    },
    {
      "cell_type": "code",
      "source": [
        "# plot error\n",
        "plot_model(best_reg, plot = 'error')\n",
        "\n",
        "# check the residuals of trained model\n",
        "plot_model(best_reg, plot = 'residuals')\n",
        "\n",
        "# check feature importance\n",
        "plot_model(best_reg, plot ='feature')"
      ],
      "metadata": {
        "id": "4mVQnc2TgwX6"
      },
      "execution_count": null,
      "outputs": []
    },
    {
      "cell_type": "code",
      "source": [
        "# interpret summary model\n",
        "interpret_model(best_reg, plot = 'summary')"
      ],
      "metadata": {
        "id": "CBBuyWMWFyDI"
      },
      "execution_count": null,
      "outputs": []
    },
    {
      "cell_type": "markdown",
      "source": [
        "## Simpan Model dan Experiment"
      ],
      "metadata": {
        "id": "W30P3gbNuYn9"
      }
    },
    {
      "cell_type": "code",
      "source": [
        "save_model(best_reg, 'best_reg_model')"
      ],
      "metadata": {
        "id": "Hn46xz4FiIVE"
      },
      "execution_count": null,
      "outputs": []
    },
    {
      "cell_type": "code",
      "source": [
        "save_experiment('best_reg_experiment')"
      ],
      "metadata": {
        "id": "jum0WQ9GiN9g"
      },
      "execution_count": null,
      "outputs": []
    },
    {
      "cell_type": "markdown",
      "source": [
        "## Load Model dan Experiment"
      ],
      "metadata": {
        "id": "P59hhHzGzao-"
      }
    },
    {
      "cell_type": "code",
      "source": [
        "# load experiment from disk\n",
        "exp_from_disk = load_experiment('best_reg_experiment', data=data_reg)\n"
      ],
      "metadata": {
        "id": "j_vs0Z3AGK9t"
      },
      "execution_count": null,
      "outputs": []
    },
    {
      "cell_type": "code",
      "source": [
        "# load model\n",
        "from pycaret.regression import load_model\n",
        "\n",
        "pipeline = load_model('best_reg_model')\n",
        "# print pipeline\n",
        "print(pipeline)"
      ],
      "metadata": {
        "id": "1Wi0DuVkzb7V"
      },
      "execution_count": null,
      "outputs": []
    },
    {
      "cell_type": "code",
      "source": [
        "# Prediksi dari data yang tidak ada variable target\n",
        "predictions = exp_from_disk.predict_model(pipeline, data = data_reg)\n",
        "predictions"
      ],
      "metadata": {
        "id": "tGBddC5BvP3F"
      },
      "execution_count": null,
      "outputs": []
    },
    {
      "cell_type": "code",
      "source": [
        "# Copy data dan hapus variable target\n",
        "data_unseen = data_reg.copy()\n",
        "data_unseen.drop('Price', axis = 1, inplace = True)\n",
        "\n",
        "# Prediksi dari data yang tidak ada variable target\n",
        "predictions = predict_model(pipeline, data = data_unseen)\n",
        "predictions"
      ],
      "metadata": {
        "id": "gT0CNTSgh-t8"
      },
      "execution_count": null,
      "outputs": []
    },
    {
      "cell_type": "markdown",
      "source": [
        "## Buat API dan Docker dan Apps"
      ],
      "metadata": {
        "id": "CmmbkRR8Ofkc"
      }
    },
    {
      "cell_type": "markdown",
      "source": [
        "### Buat Apps"
      ],
      "metadata": {
        "id": "LlzyEqb-PynP"
      }
    },
    {
      "cell_type": "code",
      "source": [
        "# create app\n",
        "create_app(best_reg)"
      ],
      "metadata": {
        "id": "vGc4IEBRP09C"
      },
      "execution_count": null,
      "outputs": []
    },
    {
      "cell_type": "markdown",
      "source": [
        "### Buat API"
      ],
      "metadata": {
        "id": "ZLtOHuHKPteO"
      }
    },
    {
      "cell_type": "code",
      "source": [
        "create_api(best_reg, 'best_reg_api')"
      ],
      "metadata": {
        "id": "beKMDvahOmfI"
      },
      "execution_count": null,
      "outputs": []
    },
    {
      "cell_type": "markdown",
      "source": [
        "### Buat Docker"
      ],
      "metadata": {
        "id": "CQheMo4FPwRr"
      }
    },
    {
      "cell_type": "code",
      "source": [
        "# create docker\n",
        "create_docker('best_reg_api')"
      ],
      "metadata": {
        "id": "_myH3BaCQBMA"
      },
      "execution_count": null,
      "outputs": []
    },
    {
      "cell_type": "markdown",
      "source": [
        "### Check Files"
      ],
      "metadata": {
        "id": "YUGoLqwFP6X0"
      }
    },
    {
      "cell_type": "code",
      "source": [
        "!ls"
      ],
      "metadata": {
        "id": "47J3zuvBw0l_"
      },
      "execution_count": null,
      "outputs": []
    },
    {
      "cell_type": "code",
      "source": [
        "!cat best_reg_api.py"
      ],
      "metadata": {
        "id": "x0UfGH6YRVN3"
      },
      "execution_count": null,
      "outputs": []
    },
    {
      "cell_type": "code",
      "source": [
        "!cat requirements.txt"
      ],
      "metadata": {
        "id": "Ar9iMCnmO4U3"
      },
      "execution_count": null,
      "outputs": []
    },
    {
      "cell_type": "code",
      "source": [
        "!cat Dockerfile"
      ],
      "metadata": {
        "id": "Hyh0PU1yOvmA"
      },
      "execution_count": null,
      "outputs": []
    },
    {
      "cell_type": "markdown",
      "source": [
        "# Klasifikasi"
      ],
      "metadata": {
        "id": "lNRyOeVuoxM7"
      }
    },
    {
      "cell_type": "markdown",
      "source": [
        "## Import dataset dari Pycaret Repository"
      ],
      "metadata": {
        "id": "UGp62dWDpOQm"
      }
    },
    {
      "cell_type": "code",
      "source": [
        "from pycaret.datasets import get_data\n",
        "data_cf = get_data('diabetes')\n",
        "data_cf"
      ],
      "metadata": {
        "id": "O3zX9-8SpLmg"
      },
      "execution_count": null,
      "outputs": []
    },
    {
      "cell_type": "markdown",
      "source": [
        "## Data Preprocessing"
      ],
      "metadata": {
        "id": "ClGKrirApf65"
      }
    },
    {
      "cell_type": "code",
      "source": [
        "# Membagi data menjadi training dan testing\n",
        "from sklearn.model_selection import train_test_split\n",
        "train, test = train_test_split(data_cf, test_size=0.1, random_state = 42)"
      ],
      "metadata": {
        "id": "2owHxE-Qpd-I"
      },
      "execution_count": null,
      "outputs": []
    },
    {
      "cell_type": "code",
      "source": [
        "# initialize setup untuk data transformation\n",
        "from pycaret.classification import *\n",
        "exp_cf = setup(train, target = 'Class variable', log_experiment = True, experiment_name = 'diabetes')"
      ],
      "metadata": {
        "id": "s78mlYq7prYu"
      },
      "execution_count": null,
      "outputs": []
    },
    {
      "cell_type": "markdown",
      "source": [
        "## Data Modeling"
      ],
      "metadata": {
        "id": "ic8fmCw_qNyD"
      }
    },
    {
      "cell_type": "code",
      "source": [
        "# compare semua model\n",
        "best_cf = exp_cf.compare_models()"
      ],
      "metadata": {
        "id": "tnsePtV5qPop"
      },
      "execution_count": null,
      "outputs": []
    },
    {
      "cell_type": "markdown",
      "source": [
        "### Tuning hyperparameter"
      ],
      "metadata": {
        "id": "zIdxxfq-nI0E"
      }
    },
    {
      "cell_type": "code",
      "source": [
        "# Pilih algoritma\n",
        "et = exp_cf.create_model('et')"
      ],
      "metadata": {
        "id": "SIJ9k_GcmeAb"
      },
      "execution_count": null,
      "outputs": []
    },
    {
      "cell_type": "code",
      "source": [
        "# Melakukan tunning hyperparameter pada model secara otomatis\n",
        "et_tuned = exp_cf.tune_model(et)"
      ],
      "metadata": {
        "id": "DR9kdn69moMm"
      },
      "execution_count": null,
      "outputs": []
    },
    {
      "cell_type": "markdown",
      "source": [
        "### Ensamble Model"
      ],
      "metadata": {
        "id": "iDvv2jqtrR2m"
      }
    },
    {
      "cell_type": "code",
      "source": [
        "# Membuat model random forest reguler\n",
        "rf = exp_cf.create_model('rf')"
      ],
      "metadata": {
        "id": "f2kgktSNnpnp"
      },
      "execution_count": null,
      "outputs": []
    },
    {
      "cell_type": "code",
      "source": [
        "# Membuat ensembling model random forest reguler\n",
        "rf_bagged = exp_cf.ensemble_model(rf)"
      ],
      "metadata": {
        "id": "1RcVae-znwFj"
      },
      "execution_count": null,
      "outputs": []
    },
    {
      "cell_type": "code",
      "source": [
        "# AUC plot\n",
        "plot_model(rf, plot = 'auc')\n",
        "# Decision Boundary\n",
        "plot_model(rf, plot = 'boundary')\n",
        "# Precision Recall Curve\n",
        "plot_model(rf, plot = 'pr')\n",
        "# Validation Curve\n",
        "plot_model(rf, plot = 'vc')"
      ],
      "metadata": {
        "id": "Ee29YbaKn8db"
      },
      "execution_count": null,
      "outputs": []
    },
    {
      "cell_type": "markdown",
      "source": [
        "## Evaluasi Model"
      ],
      "metadata": {
        "id": "erpAV1WfrdsB"
      }
    },
    {
      "cell_type": "code",
      "source": [
        "evaluate_model(best_cf)"
      ],
      "metadata": {
        "id": "6AbqqSZ-rYa6"
      },
      "execution_count": null,
      "outputs": []
    },
    {
      "cell_type": "code",
      "source": [
        "# Prediksi dari train data\n",
        "holdout_pred = predict_model(best_cf)\n",
        "holdout_pred"
      ],
      "metadata": {
        "id": "-2EzgfsJryLW"
      },
      "execution_count": null,
      "outputs": []
    },
    {
      "cell_type": "code",
      "source": [
        "# Prediksi dari test data\n",
        "predictions = predict_model(best_cf, data = test)\n",
        "predictions"
      ],
      "metadata": {
        "id": "6v2TPKW2sj3V"
      },
      "execution_count": null,
      "outputs": []
    },
    {
      "cell_type": "markdown",
      "source": [
        "## Simpan Model"
      ],
      "metadata": {
        "id": "k4Q0Z8PWueGP"
      }
    },
    {
      "cell_type": "code",
      "source": [
        "# saving model\n",
        "save_model(best_cf, model_name = 'best_cf_model')"
      ],
      "metadata": {
        "id": "9NHHbfIBsx0A"
      },
      "execution_count": null,
      "outputs": []
    },
    {
      "cell_type": "code",
      "source": [
        "save_experiment('best_cf_experiment')"
      ],
      "metadata": {
        "id": "sxZ8LE72tl9j"
      },
      "execution_count": null,
      "outputs": []
    },
    {
      "cell_type": "markdown",
      "source": [
        "## Buat API dan Docker dan Apps"
      ],
      "metadata": {
        "id": "JiOXkVixrqi-"
      }
    },
    {
      "cell_type": "markdown",
      "source": [
        "### Buat Apps"
      ],
      "metadata": {
        "id": "cipEOuPQrqi_"
      }
    },
    {
      "cell_type": "code",
      "source": [
        "# create app\n",
        "create_app(best_cf)"
      ],
      "metadata": {
        "id": "5kAkZpzTrqi_"
      },
      "execution_count": null,
      "outputs": []
    },
    {
      "cell_type": "markdown",
      "source": [
        "### Buat API"
      ],
      "metadata": {
        "id": "ZsCAYGdXrqi_"
      }
    },
    {
      "cell_type": "code",
      "source": [
        "create_api(best_reg, 'best_reg_api')"
      ],
      "metadata": {
        "id": "nJmwe6Zzrqi_"
      },
      "execution_count": null,
      "outputs": []
    },
    {
      "cell_type": "markdown",
      "source": [
        "### Buat Docker"
      ],
      "metadata": {
        "id": "0793nJMCrqi_"
      }
    },
    {
      "cell_type": "code",
      "source": [
        "# create docker\n",
        "create_docker('best_reg_api')"
      ],
      "metadata": {
        "id": "yGiDkeNIrqi_"
      },
      "execution_count": null,
      "outputs": []
    },
    {
      "cell_type": "markdown",
      "source": [
        "### Check Files"
      ],
      "metadata": {
        "id": "PHy0Crh0rqi_"
      }
    },
    {
      "cell_type": "code",
      "source": [
        "!ls"
      ],
      "metadata": {
        "id": "mZvSJgNbrqi_"
      },
      "execution_count": null,
      "outputs": []
    },
    {
      "cell_type": "code",
      "source": [
        "!cat best_reg_api.py"
      ],
      "metadata": {
        "id": "AI25qdJUrqi_"
      },
      "execution_count": null,
      "outputs": []
    },
    {
      "cell_type": "code",
      "source": [
        "!cat requirements.txt"
      ],
      "metadata": {
        "id": "AF280PByrqjA"
      },
      "execution_count": null,
      "outputs": []
    },
    {
      "cell_type": "code",
      "source": [
        "!cat Dockerfile"
      ],
      "metadata": {
        "id": "j6G_UmjlrqjA"
      },
      "execution_count": null,
      "outputs": []
    },
    {
      "cell_type": "markdown",
      "source": [
        "# Forcasting"
      ],
      "metadata": {
        "id": "VWJ8D-MQ2IaY"
      }
    },
    {
      "cell_type": "markdown",
      "source": [
        "## Import dataset dari Pycaret Repository"
      ],
      "metadata": {
        "id": "ILzykZ274HNi"
      }
    },
    {
      "cell_type": "code",
      "source": [
        "data_fc = get_data('airline')\n",
        "data_fc"
      ],
      "metadata": {
        "id": "h6rwdqwI3A-S"
      },
      "execution_count": null,
      "outputs": []
    },
    {
      "cell_type": "markdown",
      "source": [
        "## Data Preprocessing"
      ],
      "metadata": {
        "id": "I2Og54hh3AkL"
      }
    },
    {
      "cell_type": "code",
      "source": [
        "# We want to forecast the next 12 months of data and we will use 3 fold cross-validation to test the models.\n",
        "fh = 12 # or alternately fh = np.arange(1,13)\n",
        "fold = 3"
      ],
      "metadata": {
        "id": "MyCU_Nqe3bKl"
      },
      "execution_count": null,
      "outputs": []
    },
    {
      "cell_type": "code",
      "source": [
        "# Global Figure Settings for notebook ----\n",
        "# Depending on whether you are using jupyter notebook, jupyter lab, Google Colab, you may have to set the renderer appropriately\n",
        "# NOTE: Setting to a static renderer here so that the notebook saved size is reduced.\n",
        "fig_kwargs = {\n",
        "    \"renderer\": \"notebook\",\n",
        "    \"renderer\": \"png\",\n",
        "    \"width\": 1000,\n",
        "    \"height\": 400,\n",
        "}"
      ],
      "metadata": {
        "id": "V3hwWH2d3g6v"
      },
      "execution_count": null,
      "outputs": []
    },
    {
      "cell_type": "code",
      "source": [
        "from pycaret.time_series import TSForecastingExperiment\n",
        "\n",
        "exp = TSForecastingExperiment()\n",
        "exp.setup(data=data_fc, fh=fh, fold=fold, fig_kwargs=fig_kwargs, session_id=42, verbose=False)\n",
        "exp.models()"
      ],
      "metadata": {
        "id": "chKfoKx_2OUd"
      },
      "execution_count": null,
      "outputs": []
    },
    {
      "cell_type": "code",
      "source": [
        "exp_fc = TSForecastingExperiment()\n",
        "\n",
        "# We can see that specifying a value for point_alpha enables `Enforce Prediction Interval` in the grid (and limits the models).\n",
        "exp_fc.setup(data=data_fc, fh=fh, fold=fold, fig_kwargs=fig_kwargs, point_alpha=0.5, ignore_seasonality_test=True, seasonal_period=12,sp_detection='auto')\n",
        "exp_fc.models()"
      ],
      "metadata": {
        "id": "XRjGItLi7KZR"
      },
      "execution_count": null,
      "outputs": []
    },
    {
      "cell_type": "markdown",
      "source": [
        "## Data Modeling"
      ],
      "metadata": {
        "id": "cn-Opgcz4U67"
      }
    },
    {
      "cell_type": "code",
      "source": [
        "best_fc = exp_fc.compare_models()\n",
        "\n",
        "# # To enable slower models such as prophet, BATS and TBATS, add turbo=False\n",
        "# best_model = exp.compare_models(turbo=False)"
      ],
      "metadata": {
        "id": "PSRPQQLA7dm0"
      },
      "execution_count": null,
      "outputs": []
    },
    {
      "cell_type": "markdown",
      "source": [
        "### Using Arima"
      ],
      "metadata": {
        "id": "5bGKSeh74qQQ"
      }
    },
    {
      "cell_type": "code",
      "source": [
        "model_arima = exp_fc.create_model(\"arima\",order=(0,1,0), seasonal_order=(0,1,0,24))"
      ],
      "metadata": {
        "id": "mNLDWaCE30OF"
      },
      "execution_count": null,
      "outputs": []
    },
    {
      "cell_type": "code",
      "source": [
        "# Fixed Grid Search\n",
        "tuned_model_arima = exp_fc.tune_model(model_arima, search_algorithm=\"grid\",n_iter=5)\n",
        "print(model_arima)\n",
        "print(tuned_model_arima)"
      ],
      "metadata": {
        "id": "FwJWplg1-lRR"
      },
      "execution_count": null,
      "outputs": []
    },
    {
      "cell_type": "markdown",
      "source": [
        "## Evaluasi Mode"
      ],
      "metadata": {
        "id": "psB6ZIaL6IJX"
      }
    },
    {
      "cell_type": "code",
      "source": [
        "exp_fc.plot_model([model_arima, tuned_model_arima], data_kwargs={\"labels\": [\"Original\", \"Tuned\"]})"
      ],
      "metadata": {
        "id": "Z1BJCuzy-QFV"
      },
      "execution_count": null,
      "outputs": []
    },
    {
      "cell_type": "code",
      "source": [
        "# Regular Plot\n",
        "exp_fc.plot_model(best_fc)"
      ],
      "metadata": {
        "id": "Gk-WqjYK6KPe"
      },
      "execution_count": null,
      "outputs": []
    },
    {
      "cell_type": "code",
      "source": [
        "exp_fc.setup(data=data_fc, fh=fh, fold=fold, fig_kwargs=fig_kwargs, fold_strategy='sliding', verbose=False)\n",
        "exp_fc.plot_model(best_fc,plot='cv')"
      ],
      "metadata": {
        "id": "oLHkNCwp8Qss"
      },
      "execution_count": null,
      "outputs": []
    },
    {
      "cell_type": "code",
      "source": [
        "# Modified Plot (zoom into the plot to see differences between the 2 plots)\n",
        "exp.plot_model(model_arima, data_kwargs={\"alpha\": 0.7, \"coverage\": 0.8})"
      ],
      "metadata": {
        "id": "DV1g-Ugh6U22"
      },
      "execution_count": null,
      "outputs": []
    },
    {
      "cell_type": "code",
      "source": [
        "exp_fc.finalize_model(model_arima)"
      ],
      "metadata": {
        "id": "iYLYX4NkBYWc"
      },
      "execution_count": null,
      "outputs": []
    },
    {
      "cell_type": "markdown",
      "source": [
        "## Simpan Model"
      ],
      "metadata": {
        "id": "CGfcCmsj5LE1"
      }
    },
    {
      "cell_type": "code",
      "source": [
        "# With Prediction Interval (default coverage = 0.9)\n",
        "exp.predict_model(model_arima, return_pred_int=True, coverage=0.8)"
      ],
      "metadata": {
        "id": "GTnvBEIz5O8_"
      },
      "execution_count": null,
      "outputs": []
    },
    {
      "cell_type": "code",
      "source": [
        "# With Custom Point Estimate (alpha = 0.7)\n",
        "# The point estimate is now higher than before since we are asking for the\n",
        "# 70% percentile as the point estimate), vs. mean/median before.\n",
        "exp.predict_model(model_arima, alpha=0.7)"
      ],
      "metadata": {
        "id": "ANUzoynm5wLa"
      },
      "execution_count": null,
      "outputs": []
    },
    {
      "cell_type": "code",
      "source": [
        "# Increased forecast horizon to 2 years instead of the original 1 year\n",
        "exp.predict_model(model_arima, fh=24)"
      ],
      "metadata": {
        "id": "kZAWF1jJ4BXM"
      },
      "execution_count": null,
      "outputs": []
    },
    {
      "cell_type": "markdown",
      "source": [],
      "metadata": {
        "id": "qLf8NqtXKe6c"
      }
    },
    {
      "cell_type": "markdown",
      "source": [
        "# Analisis Sentimen"
      ],
      "metadata": {
        "id": "tr6E5NbbKfLI"
      }
    },
    {
      "cell_type": "markdown",
      "source": [
        "## Import dataset dari Pycaret Repository"
      ],
      "metadata": {
        "id": "S94PENLKKfLJ"
      }
    },
    {
      "cell_type": "code",
      "source": [
        "from pycaret.datasets import get_data\n",
        "data_as = get_data('tweets')"
      ],
      "metadata": {
        "id": "nGodxQIuKfLK"
      },
      "execution_count": null,
      "outputs": []
    },
    {
      "cell_type": "code",
      "source": [
        "# Remove duplicates\n",
        "data_as = data_as.drop_duplicates(subset='tweet')\n",
        "\n",
        "# Drop rows where 'Tweet' is null\n",
        "data_as.dropna(subset=['tweet'], inplace=True)"
      ],
      "metadata": {
        "id": "r-4hzcLoOwmb"
      },
      "execution_count": null,
      "outputs": []
    },
    {
      "cell_type": "code",
      "source": [
        "# Remove column id\n",
        "data_as = data_as.drop(columns=['id'])\n",
        "data_as"
      ],
      "metadata": {
        "id": "aJY4LMpBQwSy"
      },
      "execution_count": null,
      "outputs": []
    },
    {
      "cell_type": "markdown",
      "source": [
        "## Exploratory Data Analysis (EDA)"
      ],
      "metadata": {
        "id": "fbA6fogONJ-y"
      }
    },
    {
      "cell_type": "code",
      "source": [
        "data_as.info()"
      ],
      "metadata": {
        "id": "pTsm8wcJNOpE"
      },
      "execution_count": null,
      "outputs": []
    },
    {
      "cell_type": "code",
      "source": [
        "data_as.describe()"
      ],
      "metadata": {
        "id": "HEcI6q9xNawv"
      },
      "execution_count": null,
      "outputs": []
    },
    {
      "cell_type": "markdown",
      "source": [
        "## Data Preprocessing"
      ],
      "metadata": {
        "id": "PQUu7eM2KfLL"
      }
    },
    {
      "cell_type": "markdown",
      "source": [
        "### Translate ke English"
      ],
      "metadata": {
        "id": "a_0MXWmBT3fQ"
      }
    },
    {
      "cell_type": "code",
      "source": [
        "from deep_translator import GoogleTranslator\n",
        "from langdetect import detect\n",
        "import regex as re\n",
        "\n",
        "# Function untuk translation\n",
        "def translate_text(text, source='auto', target='en'):\n",
        "    try:\n",
        "        if source != target:\n",
        "            text = GoogleTranslator(source=source, target=target).translate(text)\n",
        "        return text\n",
        "\n",
        "    except Exception as e:\n",
        "        print(f\"Translation error: {str(e)}\")\n",
        "        return text\n",
        "\n",
        "# Function untuk language detection dengan try-except\n",
        "def detect_language(text):\n",
        "    try:\n",
        "        result = detect(text)\n",
        "        return result\n",
        "    except:\n",
        "        remove_emojis = re.sub(r'[^\\w\\s]', '', text)\n",
        "        result = detect(remove_emojis)\n",
        "        return result\n"
      ],
      "metadata": {
        "id": "KrKJ4ALVNotl"
      },
      "execution_count": null,
      "outputs": []
    },
    {
      "cell_type": "code",
      "source": [
        "# Add a new column for detected language\n",
        "data_as['Detect Language'] = data_as['tweet'].apply(lambda tweet: detect_language(tweet))"
      ],
      "metadata": {
        "id": "alajvtGKOkl-"
      },
      "execution_count": null,
      "outputs": []
    },
    {
      "cell_type": "code",
      "source": [
        "# Conditionally apply translation function to the 'Translation' column\n",
        "data_as['Tweet_Translation'] = data_as.apply(lambda row: row['tweet'] if row['Detect Language'] == 'en' else translate_text(row['tweet'], source=row['Detect Language'], target='en'),axis=1)"
      ],
      "metadata": {
        "id": "x8X4ookiPI7U"
      },
      "execution_count": null,
      "outputs": []
    },
    {
      "cell_type": "code",
      "source": [
        "data_as.head()"
      ],
      "metadata": {
        "id": "5gOLEey3RmHK"
      },
      "execution_count": null,
      "outputs": []
    },
    {
      "cell_type": "markdown",
      "source": [
        "### Labeling Data menggunakan VADER dan TextBlob"
      ],
      "metadata": {
        "id": "atIgIM1UUHJ_"
      }
    },
    {
      "cell_type": "code",
      "source": [
        "!pip install vaderSentiment -q"
      ],
      "metadata": {
        "id": "NRT-TntHUaOo"
      },
      "execution_count": null,
      "outputs": []
    },
    {
      "cell_type": "code",
      "source": [
        "# Sentiment Analysis\n",
        "from vaderSentiment.vaderSentiment import SentimentIntensityAnalyzer\n",
        "from textblob import TextBlob\n",
        "\n",
        "# Function for sentiment analysis using VADER\n",
        "def analyze_sentiment_vader(text):\n",
        "    analyzer = SentimentIntensityAnalyzer()\n",
        "    sentiment = analyzer.polarity_scores(text)\n",
        "    compound_score = sentiment['compound']\n",
        "    if compound_score >= 0.05:\n",
        "        return 'Positive'\n",
        "    elif compound_score <= -0.05:\n",
        "        return 'Negative'\n",
        "    else:\n",
        "        return 'Neutral'\n",
        "\n",
        "# Function for sentiment analysis using TextBlob\n",
        "def analyze_sentiment_textblob(text):\n",
        "    analysis = TextBlob(text)\n",
        "    polarity = analysis.sentiment.polarity\n",
        "    if polarity > 0:\n",
        "        return 'Positive'\n",
        "    elif polarity < 0:\n",
        "        return 'Negative'\n",
        "    else:\n",
        "        return 'Neutral'"
      ],
      "metadata": {
        "id": "mwZe7KWtUSHT"
      },
      "execution_count": null,
      "outputs": []
    },
    {
      "cell_type": "code",
      "source": [
        "# Conditionally apply VADER sentiment analysis to the 'Translation' column\n",
        "data_as['Sentiment_VADER'] = data_as['Tweet_Translation'].apply(analyze_sentiment_vader)\n",
        "\n",
        "# Conditionally apply TextBlob sentiment analysis to the 'Translation' column\n",
        "data_as['Sentiment_TextBlob'] = data_as['Tweet_Translation'].apply(analyze_sentiment_textblob)"
      ],
      "metadata": {
        "id": "l9PaVJlsT1WE"
      },
      "execution_count": null,
      "outputs": []
    },
    {
      "cell_type": "code",
      "source": [
        "import matplotlib.pyplot as plt\n",
        "import seaborn as sns\n",
        "\n",
        "# Melihat hasil distribusi sentimen menggunakan VADER\n",
        "sns.countplot(x='Sentiment_VADER', data=data_as)\n",
        "plt.title('Sentiment VADER Distribution', fontsize=16)\n",
        "plt.ylabel('Frekuensi', fontsize=16)\n",
        "plt.xticks(rotation='horizontal')\n",
        "plt.show()\n",
        "\n",
        "# Melihat hasil distribusi sentimen menggunakan TEXTBLOB\n",
        "sns.countplot(x='Sentiment_TextBlob', data=data_as)\n",
        "plt.title('Sentiment TextBlob Distribution', fontsize=16)\n",
        "plt.ylabel('Frekuensi', fontsize=16)\n",
        "plt.xticks(rotation='horizontal')\n",
        "plt.show()\n"
      ],
      "metadata": {
        "id": "bKUGDwncxoc1"
      },
      "execution_count": null,
      "outputs": []
    },
    {
      "cell_type": "markdown",
      "source": [
        "### Split Data"
      ],
      "metadata": {
        "id": "h1WR1mqLT7k0"
      }
    },
    {
      "cell_type": "code",
      "source": [
        "# Menyimpan DataFrame ke file CSV\n",
        "data_as.to_csv('data_as.csv', index=False)"
      ],
      "metadata": {
        "id": "pYUGqaZGF7O3"
      },
      "execution_count": null,
      "outputs": []
    },
    {
      "cell_type": "code",
      "source": [
        "data_as.info()"
      ],
      "metadata": {
        "id": "7REdUXQGzUsX"
      },
      "execution_count": null,
      "outputs": []
    },
    {
      "cell_type": "code",
      "source": [
        "data_as_final = data_as.filter(['tweet','Sentiment_VADER'], axis=1)\n",
        "data_as_final = data_as_final.rename(columns = {'Sentiment_VADER':'Sentiment'})"
      ],
      "metadata": {
        "id": "fyw5Ht0qygdv"
      },
      "execution_count": null,
      "outputs": []
    },
    {
      "cell_type": "markdown",
      "source": [
        "### Setup untuk modeling"
      ],
      "metadata": {
        "id": "OyAflm_DT9bM"
      }
    },
    {
      "cell_type": "code",
      "source": [
        "!pip install pycaret[full]==2.3.10 -q"
      ],
      "metadata": {
        "id": "iLeC34Y0JruE"
      },
      "execution_count": null,
      "outputs": []
    },
    {
      "cell_type": "code",
      "source": [
        "# initialize setup untuk modeling\n",
        "from pycaret.nlp import *\n",
        "\n",
        "exp_as = setup(data = data_as_final, target = 'Sentiment', log_experiment = True, experiment_name = 'SentimentAnalysis',use_gpu = True, session_id = 123,\n",
        "               text_features_method = 'tf-idf', train_size = 0.8, fix_imbalance = True, fix_imbalance_method = 'SMOTE', outliers_threshold = '0.05',profile = True)"
      ],
      "metadata": {
        "id": "ci9SO0nfKfLM"
      },
      "execution_count": null,
      "outputs": []
    },
    {
      "cell_type": "markdown",
      "source": [
        "## Data Modeling"
      ],
      "metadata": {
        "id": "F5cpYV4nKfLM"
      }
    },
    {
      "cell_type": "code",
      "source": [
        "# compare semua model\n",
        "best_as = exp_as.compare_models()"
      ],
      "metadata": {
        "id": "Eq3zaz13KfLN"
      },
      "execution_count": null,
      "outputs": []
    },
    {
      "cell_type": "markdown",
      "source": [
        "### Tuning hyperparameter"
      ],
      "metadata": {
        "id": "Dsn35ZBsKfLN"
      }
    },
    {
      "cell_type": "code",
      "source": [
        "# Pilih algoritma\n",
        "et = exp_as.create_model('et')"
      ],
      "metadata": {
        "id": "4Arx7b3yKfLO"
      },
      "execution_count": null,
      "outputs": []
    },
    {
      "cell_type": "code",
      "source": [
        "# Melakukan tunning hyperparameter pada model secara otomatis\n",
        "et_tuned = exp_as.tune_model(et)"
      ],
      "metadata": {
        "id": "44G-MFjdKfLO"
      },
      "execution_count": null,
      "outputs": []
    },
    {
      "cell_type": "markdown",
      "source": [
        "### Ensamble Model"
      ],
      "metadata": {
        "id": "pi-tdEq4KfLO"
      }
    },
    {
      "cell_type": "code",
      "source": [
        "# Membuat model random forest reguler\n",
        "rf = exp_as.create_model('rf')"
      ],
      "metadata": {
        "id": "IB6r6m-iKfLP"
      },
      "execution_count": null,
      "outputs": []
    },
    {
      "cell_type": "code",
      "source": [
        "# Membuat ensembling model random forest reguler\n",
        "rf_bagged = exp_as.ensemble_model(rf)"
      ],
      "metadata": {
        "id": "adNOArp2KfLP"
      },
      "execution_count": null,
      "outputs": []
    },
    {
      "cell_type": "code",
      "source": [
        "# AUC plot\n",
        "plot_model(rf, plot = 'auc')\n",
        "# Decision Boundary\n",
        "plot_model(rf, plot = 'boundary')\n",
        "# Precision Recall Curve\n",
        "plot_model(rf, plot = 'pr')\n",
        "# Validation Curve\n",
        "plot_model(rf, plot = 'vc')"
      ],
      "metadata": {
        "id": "L9RbXu7OKfLP"
      },
      "execution_count": null,
      "outputs": []
    },
    {
      "cell_type": "markdown",
      "source": [
        "## Evaluasi Model"
      ],
      "metadata": {
        "id": "OSfFGwY7KfLP"
      }
    },
    {
      "cell_type": "code",
      "source": [
        "evaluate_model(best_as)"
      ],
      "metadata": {
        "id": "S9FuML0UKfLQ"
      },
      "execution_count": null,
      "outputs": []
    },
    {
      "cell_type": "code",
      "source": [
        "# Prediksi dari train data\n",
        "holdout_pred = predict_model(best_as)\n",
        "holdout_pred"
      ],
      "metadata": {
        "id": "q3AcETv4KfLR"
      },
      "execution_count": null,
      "outputs": []
    },
    {
      "cell_type": "markdown",
      "source": [
        "## Simpan Model"
      ],
      "metadata": {
        "id": "xWoffWqQKfLS"
      }
    },
    {
      "cell_type": "code",
      "source": [
        "# saving model\n",
        "save_model(best_cf, model_name = 'best_cf_model')"
      ],
      "metadata": {
        "id": "MaRUfGQuKfLT"
      },
      "execution_count": null,
      "outputs": []
    },
    {
      "cell_type": "code",
      "source": [
        "save_experiment('best_cf_experiment')"
      ],
      "metadata": {
        "id": "K_zoajznKfLT"
      },
      "execution_count": null,
      "outputs": []
    },
    {
      "cell_type": "code",
      "source": [
        "!ls"
      ],
      "metadata": {
        "id": "eUYAhacQKfLU"
      },
      "execution_count": null,
      "outputs": []
    },
    {
      "cell_type": "markdown",
      "source": [
        "\n",
        "# Enable MLFlow dan Expose ke internet"
      ],
      "metadata": {
        "id": "6ejXmUD5hbMm"
      }
    },
    {
      "cell_type": "code",
      "source": [
        "!pkill -f gunicorn"
      ],
      "metadata": {
        "id": "rJgOY4wKgi66"
      },
      "execution_count": null,
      "outputs": []
    },
    {
      "cell_type": "code",
      "source": [
        "!mlflow ui &>/content/logs.txt &"
      ],
      "metadata": {
        "id": "qhl6L-X-dwhL"
      },
      "execution_count": null,
      "outputs": []
    },
    {
      "cell_type": "code",
      "source": [
        "cat /content/logs.txt &"
      ],
      "metadata": {
        "id": "NzM2zsAGegHF"
      },
      "execution_count": null,
      "outputs": []
    },
    {
      "cell_type": "code",
      "source": [
        "#LocalTunnel\n",
        "#!npm install localtunnel -q\n",
        "!npx localtunnel --port 5000 &>/content/logs-localtunnel.txt &"
      ],
      "metadata": {
        "id": "Zi52mN9reaAi"
      },
      "execution_count": null,
      "outputs": []
    },
    {
      "cell_type": "code",
      "source": [
        "!cat /content/logs-localtunnel.txt"
      ],
      "metadata": {
        "id": "2tuNUz4We4tt"
      },
      "execution_count": null,
      "outputs": []
    },
    {
      "cell_type": "code",
      "source": [
        "!echo 'Put this IP Public to localtunnel:' & curl ipv4.icanhazip.com;"
      ],
      "metadata": {
        "id": "tVo0sYLaHn9q"
      },
      "execution_count": null,
      "outputs": []
    },
    {
      "cell_type": "markdown",
      "source": [
        "# Running API"
      ],
      "metadata": {
        "id": "T177ztW-Iy5i"
      }
    },
    {
      "cell_type": "code",
      "source": [
        "!python best_sales_model.py  &>/content/logs.txt &"
      ],
      "metadata": {
        "id": "9xGyrVkEI2jT"
      },
      "execution_count": null,
      "outputs": []
    },
    {
      "cell_type": "code",
      "source": [
        "!cat best_sales_model.py"
      ],
      "metadata": {
        "collapsed": true,
        "id": "NaoJCyRlj2av"
      },
      "execution_count": null,
      "outputs": []
    },
    {
      "cell_type": "code",
      "source": [
        "%%writefile best_sales_model.py\n",
        "# Import necessary libraries\n",
        "import pandas as pd\n",
        "from pycaret.regression import load_model, predict_model\n",
        "from fastapi import FastAPI\n",
        "import uvicorn\n",
        "from pydantic import BaseModel\n",
        "from fastapi import HTTPException\n",
        "\n",
        "# Create the FastAPI app\n",
        "app = FastAPI()\n",
        "\n",
        "# Load the trained model\n",
        "model = load_model(\"best_sales_model\")\n",
        "\n",
        "# Define the input and output Pydantic models\n",
        "class InputModel(BaseModel):\n",
        "    Row_ID: int\n",
        "    Order_ID: str\n",
        "    Order_Date: str\n",
        "    Ship_Date: str\n",
        "    Ship_Mode: str\n",
        "    Customer_ID: str\n",
        "    Customer_Name: str\n",
        "    Segment: str\n",
        "    Country: str\n",
        "    City: str\n",
        "    State: str\n",
        "    Postal_Code: int\n",
        "    Region: str\n",
        "    Product_ID: str\n",
        "    Category: str\n",
        "    Sub_Category: str\n",
        "    Product_Name: str\n",
        "    Quantity: int\n",
        "    Discount: float\n",
        "    Profit: float\n",
        "\n",
        "class OutputModel(BaseModel):\n",
        "    prediction: float\n",
        "\n",
        "# Define the predict function\n",
        "@app.post(\"/predict\", response_model=OutputModel)\n",
        "def predict(data: InputModel):\n",
        "    try:\n",
        "        # Convert input data to DataFrame\n",
        "        data_dict = data.dict()\n",
        "        df = pd.DataFrame([data_dict])\n",
        "\n",
        "        # Make predictions using the loaded model\n",
        "        predictions = predict_model(model, data=df)\n",
        "\n",
        "        # Extract and return the prediction\n",
        "        prediction_value = predictions[\"Label\"].iloc[0]\n",
        "        return {\"prediction\": prediction_value}\n",
        "    except Exception as e:\n",
        "        raise HTTPException(status_code=500, detail=str(e))\n",
        "\n",
        "# Run the FastAPI server\n",
        "if __name__ == \"__main__\":\n",
        "    uvicorn.run(app, host=\"127.0.0.1\", port=8000)"
      ],
      "metadata": {
        "id": "4DdF1_PNkT1W"
      },
      "execution_count": null,
      "outputs": []
    },
    {
      "cell_type": "code",
      "source": [
        "!cat /content/logs.txt &"
      ],
      "metadata": {
        "id": "Fl02RVIwgNKG"
      },
      "execution_count": null,
      "outputs": []
    },
    {
      "cell_type": "code",
      "source": [
        "!curl -X POST http://127.0.0.1:8000/predict -H \"Content-Type: application/json\" -d '{\"Row_ID\": 210, \"Order_ID\": \"CA-2014-135860\", \"Order_Date\": \"02-12-2014\", \"Ship_Date\": \"08-12-2014\", \"Ship_Mode\": \"Standard Class\", \"Customer_ID\": \"JH-15985\", \"Customer_Name\": \"Joseph Holt\", \"Segment\": \"Consumer\", \"Country\": \"United States\", \"City\": \"Saginaw\", \"State\": \"Michigan\", \"Postal_Code\": 48601, \"Region\": \"Central\", \"Product_ID\": \"OFF-FA-10000134\", \"Category\": \"Office Supplies\", \"Sub_Category\": \"Fasteners\", \"Product_Name\": \"Advantus Push Pins, Aluminum Head\", \"Quantity\": 9, \"Discount\": 0.0, \"Profit\": 16.20989990234375}'"
      ],
      "metadata": {
        "id": "y11Q6cTrqx0A"
      },
      "execution_count": null,
      "outputs": []
    },
    {
      "cell_type": "code",
      "source": [
        "#LocalTunnel\n",
        "#!npm install localtunnel -q\n",
        "!npx localtunnel --port 8000 &>/content/logs-localtunnel.txt &"
      ],
      "metadata": {
        "id": "KQHyQo6BksGa"
      },
      "execution_count": null,
      "outputs": []
    },
    {
      "cell_type": "code",
      "source": [
        "!cat /content/logs-localtunnel.txt"
      ],
      "metadata": {
        "id": "jXDW8cBjksGf"
      },
      "execution_count": null,
      "outputs": []
    },
    {
      "cell_type": "code",
      "source": [
        "!echo 'Put this IP Public to localtunnel:' & curl ipv4.icanhazip.com;"
      ],
      "metadata": {
        "id": "8ZOphNerksGf"
      },
      "execution_count": null,
      "outputs": []
    },
    {
      "cell_type": "code",
      "source": [
        "!sudo lsof -i :8000"
      ],
      "metadata": {
        "id": "-acBi0Rimqrs"
      },
      "execution_count": null,
      "outputs": []
    },
    {
      "cell_type": "code",
      "source": [
        "!pkill -f \"python best_sales_api.py\"\n",
        "!pkill -f \"npx localtunnel --port 8000\""
      ],
      "metadata": {
        "id": "O66vaY5PmOQW"
      },
      "execution_count": null,
      "outputs": []
    },
    {
      "cell_type": "code",
      "source": [
        "!ps aux | grep \"python best_sales_api.py\"\n",
        "!ps aux | grep \"npx localtunnel --port 8000\""
      ],
      "metadata": {
        "id": "iGgqn19Skwmg"
      },
      "execution_count": null,
      "outputs": []
    },
    {
      "cell_type": "code",
      "source": [
        "!kill  34137"
      ],
      "metadata": {
        "id": "hQt5zuB0lbxc"
      },
      "execution_count": null,
      "outputs": []
    },
    {
      "cell_type": "code",
      "source": [],
      "metadata": {
        "id": "dn0JBuNBlwzh"
      },
      "execution_count": null,
      "outputs": []
    }
  ]
}