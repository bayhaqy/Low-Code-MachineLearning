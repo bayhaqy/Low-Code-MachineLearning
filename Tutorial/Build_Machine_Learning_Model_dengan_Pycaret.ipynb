{
  "nbformat": 4,
  "nbformat_minor": 0,
  "metadata": {
    "colab": {
      "private_outputs": true,
      "provenance": [],
      "toc_visible": true,
      "collapsed_sections": [
        "g9KoFi7zhYsN",
        "Zg7AI3bZjHtP",
        "ILzykZ274HNi"
      ]
    },
    "kernelspec": {
      "name": "python3",
      "display_name": "Python 3"
    },
    "language_info": {
      "name": "python"
    }
  },
  "cells": [
    {
      "cell_type": "markdown",
      "source": [
        "# Build Machine Learning Model dengan Pycaret"
      ],
      "metadata": {
        "id": "pTgbJqcQbHxw"
      }
    },
    {
      "cell_type": "markdown",
      "source": [
        "## Setup Requirement"
      ],
      "metadata": {
        "id": "BSXEmvt1hUX5"
      }
    },
    {
      "cell_type": "markdown",
      "source": [
        "### Set Log level"
      ],
      "metadata": {
        "id": "H1Zg4npI2ei6"
      }
    },
    {
      "cell_type": "code",
      "source": [
        "# Only enable critical logging (Optional)\n",
        "import os\n",
        "os.environ[\"PYCARET_CUSTOM_LOGGING_LEVEL\"] = \"CRITICAL\""
      ],
      "metadata": {
        "id": "QUOid_M92cqu"
      },
      "execution_count": null,
      "outputs": []
    },
    {
      "cell_type": "markdown",
      "source": [
        "### Install Library"
      ],
      "metadata": {
        "id": "g9KoFi7zhYsN"
      }
    },
    {
      "cell_type": "code",
      "source": [
        "!pip install pip install pycaret[full] -q\n",
        "#!pip install mlflow -q\n",
        "#!pip install pycaret-ts-alpha"
      ],
      "metadata": {
        "id": "qyEEoinNbHPH"
      },
      "execution_count": null,
      "outputs": []
    },
    {
      "cell_type": "markdown",
      "source": [
        "### Check Installed Library"
      ],
      "metadata": {
        "id": "-qbuA60M2vtt"
      }
    },
    {
      "cell_type": "code",
      "source": [
        "def what_is_installed():\n",
        "    from pycaret import show_versions\n",
        "    show_versions()\n",
        "\n",
        "try:\n",
        "    what_is_installed()\n",
        "except ModuleNotFoundError:\n",
        "    !pip install pycaret\n",
        "    what_is_installed()"
      ],
      "metadata": {
        "id": "LsPPfSMv2wE_"
      },
      "execution_count": null,
      "outputs": []
    },
    {
      "cell_type": "markdown",
      "source": [
        "### Import Library"
      ],
      "metadata": {
        "id": "0qPT2dz23LAR"
      }
    },
    {
      "cell_type": "code",
      "source": [
        "import time\n",
        "import numpy as np\n",
        "import pandas as pd\n",
        "\n",
        "from pycaret.datasets import get_data\n",
        "from pycaret.time_series import TSForecastingExperiment"
      ],
      "metadata": {
        "id": "tvpFRQV03NPZ"
      },
      "execution_count": null,
      "outputs": []
    },
    {
      "cell_type": "code",
      "source": [
        "# check docstring to see available plots\n",
        "help(get_data)"
      ],
      "metadata": {
        "id": "2SDXlTlgDiNb"
      },
      "execution_count": null,
      "outputs": []
    },
    {
      "cell_type": "markdown",
      "source": [
        "# Regresi"
      ],
      "metadata": {
        "id": "rKuWFvbUo4by"
      }
    },
    {
      "cell_type": "markdown",
      "source": [
        "## Import dataset dari Pycaret Repository"
      ],
      "metadata": {
        "id": "iScjKVdShlN7"
      }
    },
    {
      "cell_type": "code",
      "source": [
        "from pycaret.datasets import get_data\n",
        "data_reg = get_data('diamond')"
      ],
      "metadata": {
        "id": "XieB5qCvcG1D"
      },
      "execution_count": null,
      "outputs": []
    },
    {
      "cell_type": "code",
      "source": [
        "data_reg"
      ],
      "metadata": {
        "id": "HmiDIUcrkXrs"
      },
      "execution_count": null,
      "outputs": []
    },
    {
      "cell_type": "markdown",
      "source": [
        "## Exploratory Data Analysis (EDA)"
      ],
      "metadata": {
        "id": "Zg7AI3bZjHtP"
      }
    },
    {
      "cell_type": "markdown",
      "source": [
        "### Mencari informasi tentang data tersebut"
      ],
      "metadata": {
        "id": "Ljx25bAHjoOH"
      }
    },
    {
      "cell_type": "code",
      "source": [
        "data_reg.describe()"
      ],
      "metadata": {
        "id": "1rbO4AkcjbUs"
      },
      "execution_count": null,
      "outputs": []
    },
    {
      "cell_type": "code",
      "source": [
        "data_reg.info()"
      ],
      "metadata": {
        "id": "yPyBYashjN1w"
      },
      "execution_count": null,
      "outputs": []
    },
    {
      "cell_type": "code",
      "source": [
        "data_reg.isnull().sum()"
      ],
      "metadata": {
        "id": "0y3m2iKyjjre"
      },
      "execution_count": null,
      "outputs": []
    },
    {
      "cell_type": "markdown",
      "source": [
        "### Memvisualisasi Data yang ada"
      ],
      "metadata": {
        "id": "tK-NAOpMjzeV"
      }
    },
    {
      "cell_type": "code",
      "source": [
        "data_reg.plot()"
      ],
      "metadata": {
        "id": "FrTy5km0c-g7"
      },
      "execution_count": null,
      "outputs": []
    },
    {
      "cell_type": "code",
      "source": [
        "# plot scatter carat_weight dan Price\n",
        "import plotly.express as px\n",
        "fig = px.scatter(x=data_reg['Carat Weight'], y=data_reg['Price'], facet_col = data_reg['Cut'],\n",
        "                 template = 'plotly_dark', opacity = 0.25, trendline='ols', trendline_color_override = 'red',\n",
        "                 title = 'DATA DIAMOND - CASE STUDY')\n",
        "fig.show()"
      ],
      "metadata": {
        "id": "W6XWieYidAZp"
      },
      "execution_count": null,
      "outputs": []
    },
    {
      "cell_type": "code",
      "source": [
        "# plot histogram\n",
        "fig = px.histogram(data_reg, x=[\"Price\"], template = 'plotly_dark', title = 'Histogram dari Price')\n",
        "fig.show()"
      ],
      "metadata": {
        "id": "9jsbkkF6xyJC"
      },
      "execution_count": null,
      "outputs": []
    },
    {
      "cell_type": "code",
      "source": [
        "import numpy as np\n",
        "\n",
        "# create a copy of data\n",
        "data_copy = data_reg.copy()\n",
        "\n",
        "# create a new feature Log_Price\n",
        "data_copy['Log_Price'] = np.log(data_reg['Price'])\n",
        "\n",
        "# plot histogram\n",
        "fig = px.histogram(data_copy, x=[\"Log_Price\"], title = 'Histgram dari Log Price', template = 'plotly_dark')\n",
        "fig.show()"
      ],
      "metadata": {
        "id": "KA5IDxS5yKq6"
      },
      "execution_count": null,
      "outputs": []
    },
    {
      "cell_type": "markdown",
      "source": [
        "## Data Preprocessing"
      ],
      "metadata": {
        "id": "TB5VFcFyj7su"
      }
    },
    {
      "cell_type": "code",
      "source": [
        "# initialize setup untuk data transformation\n",
        "from pycaret.regression import *\n",
        "\n",
        "esp_reg = setup(data_reg, target = 'Price', transform_target = True, log_experiment='mlflow', experiment_name = 'diamond',use_gpu = False)"
      ],
      "metadata": {
        "id": "G_bnCMvLdCtE"
      },
      "execution_count": null,
      "outputs": []
    },
    {
      "cell_type": "code",
      "source": [
        "# check statistical tests on original data\n",
        "esp_reg.check_stats()"
      ],
      "metadata": {
        "id": "gM7LYhPRG2Of"
      },
      "execution_count": null,
      "outputs": []
    },
    {
      "cell_type": "markdown",
      "source": [
        "## Data Modeling"
      ],
      "metadata": {
        "id": "zi_aYOSokwt-"
      }
    },
    {
      "cell_type": "code",
      "source": [
        "# check models yang tersedia\n",
        "esp_reg.models()"
      ],
      "metadata": {
        "id": "R9Oa72NlEaxV"
      },
      "execution_count": null,
      "outputs": []
    },
    {
      "cell_type": "code",
      "source": [
        "# compare semua model\n",
        "best_reg = esp_reg.compare_models(sort = 'MAE')"
      ],
      "metadata": {
        "id": "PuhpIu97dYVK"
      },
      "execution_count": null,
      "outputs": []
    },
    {
      "cell_type": "markdown",
      "source": [
        "## Evaluasi Model"
      ],
      "metadata": {
        "id": "-H26fOFrn4Pz"
      }
    },
    {
      "cell_type": "code",
      "source": [
        "evaluate_model(best_reg)"
      ],
      "metadata": {
        "id": "1UhGvJtsh34w"
      },
      "execution_count": null,
      "outputs": []
    },
    {
      "cell_type": "code",
      "source": [
        "# check final params dari best model\n",
        "esp_regz.get_params()"
      ],
      "metadata": {
        "id": "YpndjadEdsKP"
      },
      "execution_count": null,
      "outputs": []
    },
    {
      "cell_type": "code",
      "source": [
        "# check all available config\n",
        "best_fc.get_config()\n"
      ],
      "metadata": {
        "id": "t2oVu-DaD6cb"
      },
      "execution_count": null,
      "outputs": []
    },
    {
      "cell_type": "code",
      "source": [
        "# plot error\n",
        "plot_model(best_reg, plot = 'error')\n",
        "\n",
        "# check the residuals of trained model\n",
        "plot_model(best_reg, plot = 'residuals')\n",
        "\n",
        "# check feature importance\n",
        "plot_model(best_reg, plot ='feature')"
      ],
      "metadata": {
        "id": "4mVQnc2TgwX6"
      },
      "execution_count": null,
      "outputs": []
    },
    {
      "cell_type": "code",
      "source": [
        "# interpret summary model\n",
        "interpret_model(best_reg, plot = 'summary')"
      ],
      "metadata": {
        "id": "CBBuyWMWFyDI"
      },
      "execution_count": null,
      "outputs": []
    },
    {
      "cell_type": "markdown",
      "source": [
        "## Simpan Model dan Experiment"
      ],
      "metadata": {
        "id": "W30P3gbNuYn9"
      }
    },
    {
      "cell_type": "code",
      "source": [
        "save_model(best_reg, 'best_reg_model')"
      ],
      "metadata": {
        "id": "Hn46xz4FiIVE"
      },
      "execution_count": null,
      "outputs": []
    },
    {
      "cell_type": "code",
      "source": [
        "save_experiment('best_reg_experiment')"
      ],
      "metadata": {
        "id": "jum0WQ9GiN9g"
      },
      "execution_count": null,
      "outputs": []
    },
    {
      "cell_type": "code",
      "source": [
        "!ls"
      ],
      "metadata": {
        "id": "47J3zuvBw0l_"
      },
      "execution_count": null,
      "outputs": []
    },
    {
      "cell_type": "markdown",
      "source": [
        "## Load Model dan Experiment"
      ],
      "metadata": {
        "id": "P59hhHzGzao-"
      }
    },
    {
      "cell_type": "code",
      "source": [
        "# load experiment from disk\n",
        "exp_from_disk = load_experiment('best_reg_experiment', data=data_reg)\n"
      ],
      "metadata": {
        "id": "j_vs0Z3AGK9t"
      },
      "execution_count": null,
      "outputs": []
    },
    {
      "cell_type": "code",
      "source": [
        "# load model\n",
        "from pycaret.regression import load_model\n",
        "\n",
        "pipeline = load_model('best_cf_model')\n",
        "# print pipeline\n",
        "print(pipeline)"
      ],
      "metadata": {
        "id": "1Wi0DuVkzb7V"
      },
      "execution_count": null,
      "outputs": []
    },
    {
      "cell_type": "code",
      "source": [
        "# Prediksi dari data yang tidak ada variable target\n",
        "predictions = exp_from_disk.predict_model(pipeline, data = data_reg)\n",
        "predictions"
      ],
      "metadata": {
        "id": "tGBddC5BvP3F"
      },
      "execution_count": null,
      "outputs": []
    },
    {
      "cell_type": "code",
      "source": [
        "# Copy data dan hapus variable target\n",
        "data_unseen = data_reg.copy()\n",
        "data_unseen.drop('Price', axis = 1, inplace = True)\n",
        "\n",
        "# Prediksi dari data yang tidak ada variable target\n",
        "predictions = predict_model(pipeline, data = data_unseen)\n",
        "predictions"
      ],
      "metadata": {
        "id": "gT0CNTSgh-t8"
      },
      "execution_count": null,
      "outputs": []
    },
    {
      "cell_type": "markdown",
      "source": [
        "# Klasifikasi"
      ],
      "metadata": {
        "id": "lNRyOeVuoxM7"
      }
    },
    {
      "cell_type": "markdown",
      "source": [
        "## Import dataset dari Pycaret Repository"
      ],
      "metadata": {
        "id": "UGp62dWDpOQm"
      }
    },
    {
      "cell_type": "code",
      "source": [
        "from pycaret.datasets import get_data\n",
        "data_cf = get_data('diabetes')\n",
        "data_cf"
      ],
      "metadata": {
        "id": "O3zX9-8SpLmg"
      },
      "execution_count": null,
      "outputs": []
    },
    {
      "cell_type": "markdown",
      "source": [
        "## Data Preprocessing"
      ],
      "metadata": {
        "id": "ClGKrirApf65"
      }
    },
    {
      "cell_type": "code",
      "source": [
        "# Membagi data menjadi training dan testing\n",
        "from sklearn.model_selection import train_test_split\n",
        "train, test = train_test_split(data_cf, test_size=0.1, random_state = 42)"
      ],
      "metadata": {
        "id": "2owHxE-Qpd-I"
      },
      "execution_count": null,
      "outputs": []
    },
    {
      "cell_type": "code",
      "source": [
        "# initialize setup untuk data transformation\n",
        "from pycaret.classification import *\n",
        "exp_cf = setup(train, target = 'Class variable', log_experiment = True, experiment_name = 'diabetes')"
      ],
      "metadata": {
        "id": "s78mlYq7prYu"
      },
      "execution_count": null,
      "outputs": []
    },
    {
      "cell_type": "markdown",
      "source": [
        "## Data Modeling"
      ],
      "metadata": {
        "id": "ic8fmCw_qNyD"
      }
    },
    {
      "cell_type": "code",
      "source": [
        "# compare semua model\n",
        "best_cf = exp_cf.compare_models()"
      ],
      "metadata": {
        "id": "tnsePtV5qPop"
      },
      "execution_count": null,
      "outputs": []
    },
    {
      "cell_type": "markdown",
      "source": [
        "### Tuning hyperparameter"
      ],
      "metadata": {
        "id": "zIdxxfq-nI0E"
      }
    },
    {
      "cell_type": "code",
      "source": [
        "# Pilih algoritma\n",
        "et = exp_cf.create_model('et')"
      ],
      "metadata": {
        "id": "SIJ9k_GcmeAb"
      },
      "execution_count": null,
      "outputs": []
    },
    {
      "cell_type": "code",
      "source": [
        "# Melakukan tunning hyperparameter pada model secara otomatis\n",
        "et_tuned = exp_cf.tune_model(et)"
      ],
      "metadata": {
        "id": "DR9kdn69moMm"
      },
      "execution_count": null,
      "outputs": []
    },
    {
      "cell_type": "markdown",
      "source": [
        "### Ensamble Model"
      ],
      "metadata": {
        "id": "iDvv2jqtrR2m"
      }
    },
    {
      "cell_type": "code",
      "source": [
        "# Membuat model random forest reguler\n",
        "rf = exp_cf.create_model('rf')"
      ],
      "metadata": {
        "id": "f2kgktSNnpnp"
      },
      "execution_count": null,
      "outputs": []
    },
    {
      "cell_type": "code",
      "source": [
        "# Membuat ensembling model random forest reguler\n",
        "rf_bagged = exp_cf.ensemble_model(rf)"
      ],
      "metadata": {
        "id": "1RcVae-znwFj"
      },
      "execution_count": null,
      "outputs": []
    },
    {
      "cell_type": "code",
      "source": [
        "# AUC plot\n",
        "plot_model(rf, plot = 'auc')\n",
        "# Decision Boundary\n",
        "plot_model(rf, plot = 'boundary')\n",
        "# Precision Recall Curve\n",
        "plot_model(rf, plot = 'pr')\n",
        "# Validation Curve\n",
        "plot_model(rf, plot = 'vc')"
      ],
      "metadata": {
        "id": "Ee29YbaKn8db"
      },
      "execution_count": null,
      "outputs": []
    },
    {
      "cell_type": "markdown",
      "source": [
        "## Evaluasi Model"
      ],
      "metadata": {
        "id": "erpAV1WfrdsB"
      }
    },
    {
      "cell_type": "code",
      "source": [
        "evaluate_model(best_cf)"
      ],
      "metadata": {
        "id": "6AbqqSZ-rYa6"
      },
      "execution_count": null,
      "outputs": []
    },
    {
      "cell_type": "code",
      "source": [
        "# Prediksi dari train data\n",
        "holdout_pred = predict_model(best_cf)\n",
        "holdout_pred"
      ],
      "metadata": {
        "id": "-2EzgfsJryLW"
      },
      "execution_count": null,
      "outputs": []
    },
    {
      "cell_type": "code",
      "source": [
        "# Prediksi dari test data\n",
        "predictions = predict_model(best_cf, data = test)\n",
        "predictions"
      ],
      "metadata": {
        "id": "6v2TPKW2sj3V"
      },
      "execution_count": null,
      "outputs": []
    },
    {
      "cell_type": "markdown",
      "source": [
        "## Simpan Model"
      ],
      "metadata": {
        "id": "k4Q0Z8PWueGP"
      }
    },
    {
      "cell_type": "code",
      "source": [
        "# saving model\n",
        "save_model(best_cf, model_name = 'best_cf_model')"
      ],
      "metadata": {
        "id": "9NHHbfIBsx0A"
      },
      "execution_count": null,
      "outputs": []
    },
    {
      "cell_type": "code",
      "source": [
        "save_experiment('best_cf_experiment')"
      ],
      "metadata": {
        "id": "sxZ8LE72tl9j"
      },
      "execution_count": null,
      "outputs": []
    },
    {
      "cell_type": "code",
      "source": [
        "!ls"
      ],
      "metadata": {
        "id": "iOrdLvTttoRo"
      },
      "execution_count": null,
      "outputs": []
    },
    {
      "cell_type": "markdown",
      "source": [
        "# Forcasting"
      ],
      "metadata": {
        "id": "VWJ8D-MQ2IaY"
      }
    },
    {
      "cell_type": "markdown",
      "source": [
        "## Import dataset dari Pycaret Repository"
      ],
      "metadata": {
        "id": "ILzykZ274HNi"
      }
    },
    {
      "cell_type": "code",
      "source": [
        "data_fc = get_data('airline')\n",
        "data_fc"
      ],
      "metadata": {
        "id": "h6rwdqwI3A-S"
      },
      "execution_count": null,
      "outputs": []
    },
    {
      "cell_type": "markdown",
      "source": [
        "## Data Preprocessing"
      ],
      "metadata": {
        "id": "I2Og54hh3AkL"
      }
    },
    {
      "cell_type": "code",
      "source": [
        "# We want to forecast the next 12 months of data and we will use 3 fold cross-validation to test the models.\n",
        "fh = 12 # or alternately fh = np.arange(1,13)\n",
        "fold = 3"
      ],
      "metadata": {
        "id": "MyCU_Nqe3bKl"
      },
      "execution_count": null,
      "outputs": []
    },
    {
      "cell_type": "code",
      "source": [
        "# Global Figure Settings for notebook ----\n",
        "# Depending on whether you are using jupyter notebook, jupyter lab, Google Colab, you may have to set the renderer appropriately\n",
        "# NOTE: Setting to a static renderer here so that the notebook saved size is reduced.\n",
        "fig_kwargs = {\n",
        "    \"renderer\": \"notebook\",\n",
        "    \"renderer\": \"png\",\n",
        "    \"width\": 1000,\n",
        "    \"height\": 400,\n",
        "}"
      ],
      "metadata": {
        "id": "V3hwWH2d3g6v"
      },
      "execution_count": null,
      "outputs": []
    },
    {
      "cell_type": "code",
      "source": [
        "from pycaret.time_series import TSForecastingExperiment\n",
        "\n",
        "exp = TSForecastingExperiment()\n",
        "exp.setup(data=data_fc, fh=fh, fold=fold, fig_kwargs=fig_kwargs, session_id=42, verbose=False)\n",
        "exp.models()"
      ],
      "metadata": {
        "id": "chKfoKx_2OUd"
      },
      "execution_count": null,
      "outputs": []
    },
    {
      "cell_type": "code",
      "source": [
        "exp_fc = TSForecastingExperiment()\n",
        "\n",
        "# We can see that specifying a value for point_alpha enables `Enforce Prediction Interval` in the grid (and limits the models).\n",
        "exp_fc.setup(data=data_fc, fh=fh, fold=fold, fig_kwargs=fig_kwargs, point_alpha=0.5, ignore_seasonality_test=True, seasonal_period=12,sp_detection='auto')\n",
        "exp_fc.models()"
      ],
      "metadata": {
        "id": "XRjGItLi7KZR"
      },
      "execution_count": null,
      "outputs": []
    },
    {
      "cell_type": "markdown",
      "source": [
        "## Data Modeling"
      ],
      "metadata": {
        "id": "cn-Opgcz4U67"
      }
    },
    {
      "cell_type": "code",
      "source": [
        "best_fc = exp_fc.compare_models()\n",
        "\n",
        "# # To enable slower models such as prophet, BATS and TBATS, add turbo=False\n",
        "# best_model = exp.compare_models(turbo=False)"
      ],
      "metadata": {
        "id": "PSRPQQLA7dm0"
      },
      "execution_count": null,
      "outputs": []
    },
    {
      "cell_type": "markdown",
      "source": [
        "### Using Arima"
      ],
      "metadata": {
        "id": "5bGKSeh74qQQ"
      }
    },
    {
      "cell_type": "code",
      "source": [
        "model_arima = exp_fc.create_model(\"arima\",order=(0,1,0), seasonal_order=(0,1,0,24))"
      ],
      "metadata": {
        "id": "mNLDWaCE30OF"
      },
      "execution_count": null,
      "outputs": []
    },
    {
      "cell_type": "code",
      "source": [
        "# Fixed Grid Search\n",
        "tuned_model_arima = exp_fc.tune_model(model_arima, search_algorithm=\"grid\",n_iter=5)\n",
        "print(model_arima)\n",
        "print(tuned_model_arima)"
      ],
      "metadata": {
        "id": "FwJWplg1-lRR"
      },
      "execution_count": null,
      "outputs": []
    },
    {
      "cell_type": "markdown",
      "source": [
        "## Evaluasi Mode"
      ],
      "metadata": {
        "id": "psB6ZIaL6IJX"
      }
    },
    {
      "cell_type": "code",
      "source": [
        "exp_fc.plot_model([model_arima, tuned_model_arima], data_kwargs={\"labels\": [\"Original\", \"Tuned\"]})"
      ],
      "metadata": {
        "id": "Z1BJCuzy-QFV"
      },
      "execution_count": null,
      "outputs": []
    },
    {
      "cell_type": "code",
      "source": [
        "# Regular Plot\n",
        "exp_fc.plot_model(best_fc)"
      ],
      "metadata": {
        "id": "Gk-WqjYK6KPe"
      },
      "execution_count": null,
      "outputs": []
    },
    {
      "cell_type": "code",
      "source": [
        "exp_fc.setup(data=data_fc, fh=fh, fold=fold, fig_kwargs=fig_kwargs, fold_strategy='sliding', verbose=False)\n",
        "exp_fc.plot_model(best_fc,plot='cv')"
      ],
      "metadata": {
        "id": "oLHkNCwp8Qss"
      },
      "execution_count": null,
      "outputs": []
    },
    {
      "cell_type": "code",
      "source": [
        "# Modified Plot (zoom into the plot to see differences between the 2 plots)\n",
        "exp.plot_model(model_arima, data_kwargs={\"alpha\": 0.7, \"coverage\": 0.8})"
      ],
      "metadata": {
        "id": "DV1g-Ugh6U22"
      },
      "execution_count": null,
      "outputs": []
    },
    {
      "cell_type": "code",
      "source": [
        "exp_fc.finalize_model(model_arima)"
      ],
      "metadata": {
        "id": "iYLYX4NkBYWc"
      },
      "execution_count": null,
      "outputs": []
    },
    {
      "cell_type": "markdown",
      "source": [
        "## Simpan Model"
      ],
      "metadata": {
        "id": "CGfcCmsj5LE1"
      }
    },
    {
      "cell_type": "code",
      "source": [
        "# With Prediction Interval (default coverage = 0.9)\n",
        "exp.predict_model(model_arima, return_pred_int=True, coverage=0.8)"
      ],
      "metadata": {
        "id": "GTnvBEIz5O8_"
      },
      "execution_count": null,
      "outputs": []
    },
    {
      "cell_type": "code",
      "source": [
        "# With Custom Point Estimate (alpha = 0.7)\n",
        "# The point estimate is now higher than before since we are asking for the\n",
        "# 70% percentile as the point estimate), vs. mean/median before.\n",
        "exp.predict_model(model_arima, alpha=0.7)"
      ],
      "metadata": {
        "id": "ANUzoynm5wLa"
      },
      "execution_count": null,
      "outputs": []
    },
    {
      "cell_type": "code",
      "source": [
        "# Increased forecast horizon to 2 years instead of the original 1 year\n",
        "exp.predict_model(model_arima, fh=24)"
      ],
      "metadata": {
        "id": "kZAWF1jJ4BXM"
      },
      "execution_count": null,
      "outputs": []
    },
    {
      "cell_type": "markdown",
      "source": [
        "\n",
        "## Enable MLFlow dan Expose ke internet"
      ],
      "metadata": {
        "id": "6ejXmUD5hbMm"
      }
    },
    {
      "cell_type": "code",
      "source": [
        "!pkill -f gunicorn"
      ],
      "metadata": {
        "id": "rJgOY4wKgi66"
      },
      "execution_count": null,
      "outputs": []
    },
    {
      "cell_type": "code",
      "source": [
        "!mlflow ui &>/content/logs.txt &"
      ],
      "metadata": {
        "id": "qhl6L-X-dwhL"
      },
      "execution_count": null,
      "outputs": []
    },
    {
      "cell_type": "code",
      "source": [
        "cat /content/logs.txt &"
      ],
      "metadata": {
        "id": "NzM2zsAGegHF"
      },
      "execution_count": null,
      "outputs": []
    },
    {
      "cell_type": "code",
      "source": [
        "#LocalTunnel\n",
        "#!npm install localtunnel -q\n",
        "!npx localtunnel --port 5000 &>/content/logs-localtunnel.txt &"
      ],
      "metadata": {
        "id": "Zi52mN9reaAi"
      },
      "execution_count": null,
      "outputs": []
    },
    {
      "cell_type": "code",
      "source": [
        "!cat /content/logs-localtunnel.txt"
      ],
      "metadata": {
        "id": "2tuNUz4We4tt"
      },
      "execution_count": null,
      "outputs": []
    },
    {
      "cell_type": "code",
      "source": [
        "!echo 'Put this IP Public to localtunnel:' & curl ipv4.icanhazip.com;"
      ],
      "metadata": {
        "id": "tVo0sYLaHn9q"
      },
      "execution_count": null,
      "outputs": []
    },
    {
      "cell_type": "code",
      "source": [],
      "metadata": {
        "id": "Mte7IkNLIDRW"
      },
      "execution_count": null,
      "outputs": []
    }
  ]
}